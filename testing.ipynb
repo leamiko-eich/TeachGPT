{
 "cells": [
  {
   "cell_type": "markdown",
   "metadata": {},
   "source": [
    "## Basic Working Chat with Memory"
   ]
  },
  {
   "cell_type": "code",
   "execution_count": 56,
   "metadata": {},
   "outputs": [],
   "source": [
    "from langchain.chat_models import ChatOpenAI\n",
    "from pydantic import BaseModel\n",
    "from langchain.prompts import ChatPromptTemplate, SystemMessagePromptTemplate\n",
    "from langchain.schema import SystemMessage, HumanMessage, AIMessage, BaseMessage\n",
    "from langchain.memory import ConversationBufferWindowMemory\n",
    "import streamlit as st\n",
    "from fastapi import APIRouter\n",
    "from typing import List"
   ]
  },
  {
   "cell_type": "code",
   "execution_count": null,
   "metadata": {},
   "outputs": [],
   "source": [
    "class HTTPErrorResponse(BaseModel):\n",
    "    detail: str\n",
    "\n",
    "class InitiateChatResult(BaseModel):\n",
    "    messages: List[str]\n",
    "\n",
    "class PostChatResult(BaseModel):\n",
    "    message: str"
   ]
  },
  {
   "cell_type": "code",
   "execution_count": 65,
   "metadata": {},
   "outputs": [],
   "source": [
    "class BaseChatBot:\n",
    "    router: APIRouter\n",
    "\n",
    "\n",
    "    def _init_api_routes(self) -> None:\n",
    "        self.router.add_api_route(\n",
    "            \"/initiate\",\n",
    "            endpoint=self.initiate_chat,\n",
    "            methods=[\"POST\"],\n",
    "            responses={\n",
    "                200: {\"model\": InitiateChatResult},\n",
    "                401: {\"model\": HTTPErrorResponse},\n",
    "                403: {\"model\": HTTPErrorResponse},\n",
    "            },\n",
    "        )\n",
    "\n",
    "        self.router.add_api_route(\n",
    "            \"/\",\n",
    "            endpoint=self.get_prediction_with_ctx,\n",
    "            methods=[\"POST\"],\n",
    "            responses={\n",
    "                200: {\"model\": PostChatResult},\n",
    "                400: {\"model\": HTTPErrorResponse},\n",
    "                401: {\"model\": HTTPErrorResponse},\n",
    "                403: {\"model\": HTTPErrorResponse},\n",
    "            },\n",
    "        )\n",
    "\n",
    "\n",
    "    def __init__(self, ctx):\n",
    "        self.ctx = ctx\n",
    "        self.chat_history = []\n",
    "        self.messages = []\n",
    "        self._model = ChatOpenAI(\n",
    "                        openai_api_key=\"NONE\",  # type: ignore\n",
    "                        openai_api_base=\"http://127.0.0.1:1234/v1\",\n",
    "                        max_tokens=800,\n",
    "                        temperature=0.3,\n",
    "                        streaming=False,\n",
    "                    )\n",
    "        with open(\"./model_server/prompts/chat.txt\",\"r\") as f:\n",
    "            self._system_prompt = f.read()\n",
    "        \n",
    "\n",
    "    def get_prediction_with_ctx(self, message) -> str:\n",
    "        \n",
    "        self.chat_history.append(HumanMessage(content=message))\n",
    "        messages:List[BaseMessage] = [SystemMessage(content=self._system_prompt.format(user_context=self.ctx))]  + self.chat_history  # type: ignore\n",
    "        result = self._model.predict_messages( \n",
    "            messages=messages\n",
    "        )\n",
    "        self.chat_history.append(AIMessage(content=result.content))\n",
    "        return result.content\n",
    "\n",
    "\n",
    "    def initiate_chat(self):\n",
    "        pass\n"
   ]
  },
  {
   "cell_type": "code",
   "execution_count": 66,
   "metadata": {},
   "outputs": [],
   "source": [
    "\n",
    "ctx = \"The user is Rohan, a student in 4th year B. Tech. CSE, and he needs help with Python programming\"\n",
    "\n",
    "model = BaseChatBot(ctx=ctx)\n"
   ]
  },
  {
   "cell_type": "code",
   "execution_count": 67,
   "metadata": {},
   "outputs": [
    {
     "name": "stdout",
     "output_type": "stream",
     "text": [
      "\n",
      "Sure! The Secure Hash Algorithm (SHA) is a cryptographic hash function that was designed by the United States National Institute of Standards and Technology (NIST). It's used for data integrity checking and digital signatures, among other things. There are several versions of SHA, with SHA-256 being one of the most commonly used ones.\n",
      "\n",
      "Here's an example: Let's say we want to hash the string \"Hello World\". We would use a hash function like SHA-256 to generate a fixed-size output (in this case, 256 bits) that represents the input data. The output of hashing \"Hello World\" using SHA-256 is:\n",
      "\n",
      "`3104eab577c8f8d9b5a5e9d4e1a08b3e64a0edc0a06e10d7e1ba0e8b43e8b24f`\n",
      "\n",
      "This output is unique to the input data and can be used for verifying the integrity of the data or creating digital signatures.\n"
     ]
    }
   ],
   "source": [
    "result = model.get_prediction_with_ctx(\n",
    "    message=\"Hi, I want to know about the SHA algorithm. Can you give me an example?\"\n",
    ")\n",
    "\n",
    "print(result)"
   ]
  },
  {
   "cell_type": "markdown",
   "metadata": {},
   "source": [
    "## RAG"
   ]
  },
  {
   "cell_type": "code",
   "execution_count": 60,
   "metadata": {},
   "outputs": [
    {
     "name": "stdout",
     "output_type": "stream",
     "text": [
      "\n",
      "The SHA algorithm provides stronger security guarantees compared to basic hashing techniques such as MD5 or SHA-1. The main differences are:\n",
      "\n",
      "1. Collision Resistance: Basic hashes like MD5 can be vulnerable to collisions, meaning two different inputs can produce the same hash value. This weakness can be exploited by attackers to forge signatures or tamper with data. On the other hand, SHA-2 and SHA-3 are designed to have a much higher resistance against collision attacks.\n",
      "2. Security Strength: The security strength of SHA is regularly updated as new threats emerge. For example, NIST announced in 2015 that SHA-1 would be phased out by 2017 due to increasing vulnerabilities. In contrast, basic hashes like MD5 have remained unchanged for decades and are now considered insecure.\n",
      "3. Standardization: SHA is a widely adopted standard developed by NIST, which ensures interoperability across different platforms and applications. This makes it easier to implement and verify the integrity of data using SHA.\n",
      "4. Flexibility: SHA supports various hash sizes (160, 224, 256, 384, or 512 bits), allowing users to choose the appropriate level of security based on their needs. Basic hashes like MD5 have a fixed output size of 128 bits.\n",
      "\n",
      "In summary, SHA provides stronger security guarantees than basic hash functions due to its collision resistance, regular updates, standardization, and flexibility.\n"
     ]
    }
   ],
   "source": [
    "result = model.get_prediction_with_ctx(\n",
    "    message=\"Why is this better than basic hash? is there something special?\"\n",
    ")\n",
    "\n",
    "print(result)"
   ]
  },
  {
   "cell_type": "code",
   "execution_count": 61,
   "metadata": {},
   "outputs": [
    {
     "name": "stdout",
     "output_type": "stream",
     "text": [
      "\n",
      "Sure! Let's dive deeper into some key aspects of SHA:\n",
      "\n",
      "1. Collision Resistance: SHA uses a mathematical function called the compression function that takes in the current state of the hash and combines it with the data block to produce a new state. This process is repeated for all blocks, and the final state is the hash value. The design of SHA ensures that finding two different inputs that produce the same output (a collision) is computationally infeasible. In contrast, basic hashes like MD5 can be vulnerable to collisions, which can be exploited by attackers to forge signatures or tamper with data.\n",
      "2. Security Strength: SHA's security strength is regularly updated as new threats emerge. For example, NIST announced in 2015 that SHA-1 would be phased out by 2017 due to increasing vulnerabilities. In contrast, basic hashes like MD5 have remained unchanged for decades and are now considered insecure.\n",
      "3. Standardization: SHA is a widely adopted standard developed by NIST, which ensures interoperability across different platforms and applications. This makes it easier to implement and verify the integrity of data using SHA.\n",
      "4. Flexibility: SHA supports various hash sizes (160, 224, 256, 384, or 512 bits), allowing users to choose the appropriate level of security based on their needs. Basic hashes like MD5 have a fixed output size of 128 bits.\n",
      "\n",
      "These features make SHA a more secure and versatile choice for cryptographic hash functions compared to basic hashing techniques such as MD5 or SHA-1.\n"
     ]
    }
   ],
   "source": [
    "result = model.get_prediction_with_ctx(\n",
    "    message=\"Can you explain more?\"\n",
    ")\n",
    "\n",
    "print(result)"
   ]
  },
  {
   "cell_type": "code",
   "execution_count": 62,
   "metadata": {},
   "outputs": [
    {
     "name": "stdout",
     "output_type": "stream",
     "text": [
      "\n",
      "Yes, I do! The Digital Signature Standard (DSS) is a United States government standard for digital signatures that uses the SHA algorithm in conjunction with elliptic curve cryptography (ECC). DSS is designed to provide secure and efficient digital signatures for electronic transactions.\n",
      "\n",
      "The main components of DSS are:\n",
      "\n",
      "1. Public Key: A public key, which is a mathematical function used to verify the authenticity of a signature. It is publicly available and can be used by anyone to check the validity of a signature.\n",
      "2. Private Key: A private key, which is a secret value known only to the signer. It is used to generate digital signatures that can be verified using the public key.\n",
      "3. Elliptic Curve Cryptography (ECC): ECC is a type of public-key cryptography that uses elliptic curves over finite fields as its mathematical basis. It provides similar security levels as traditional RSA-based systems but with shorter key sizes, making it more efficient and faster.\n",
      "4. SHA Algorithm: DSS uses the SHA algorithm to compute a hash value from the message being signed. This hash value is then used in conjunction with the signer's private key to generate a digital signature.\n",
      "\n",
      "DSS provides a secure and efficient way to create and verify digital signatures, ensuring the authenticity and integrity of electronic transactions.\n"
     ]
    }
   ],
   "source": [
    "result = model.get_prediction_with_ctx(\n",
    "    message=\"do you know DSS\"\n",
    ")\n",
    "\n",
    "print(result)"
   ]
  },
  {
   "cell_type": "code",
   "execution_count": 63,
   "metadata": {},
   "outputs": [
    {
     "name": "stdout",
     "output_type": "stream",
     "text": [
      "\n",
      "Sure! Here's a summary of the key points we discussed:\n",
      "\n",
      "1. SHA (Secure Hash Algorithm) is a set of cryptographic hash functions designed by NIST, offering stronger security guarantees than basic hashing techniques like MD5 or SHA-1.\n",
      "2. SHA provides higher collision resistance, more frequent updates for security strength, standardization across platforms, and flexibility in hash sizes compared to basic hashes.\n",
      "3. DSS (Digital Signature Standard) is a United States government standard that uses the SHA algorithm in conjunction with elliptic curve cryptography (ECC) to provide secure and efficient digital signatures for electronic transactions.\n"
     ]
    }
   ],
   "source": [
    "result = model.get_prediction_with_ctx(\n",
    "    message=\"Can you summarize all these so I can learn it for my exam tomorrow?\"\n",
    ")\n",
    "\n",
    "print(result)"
   ]
  },
  {
   "cell_type": "code",
   "execution_count": 64,
   "metadata": {},
   "outputs": [
    {
     "name": "stdout",
     "output_type": "stream",
     "text": [
      "Hi, I want to know about the SHA algorithm. Can you give me an example? \n",
      "\n",
      "\n",
      "\n",
      "The Secure Hash Algorithm (SHA) is a set of cryptographic hash functions designed by the United States National Institute of Standards and Technology (NIST). It was initially published in 1993, and it has since been updated to several versions, including SHA-0, SHA-1, SHA-2, and SHA-3.\n",
      "\n",
      "One common use of SHA is for digital signatures and message authentication codes (MACs), which help ensure the integrity of data transmitted over networks or stored on computers.\n",
      "\n",
      "An example of using SHA to hash a string \"Hello World\" would be:\n",
      "\n",
      "1. Convert the string into a series of binary digits (bits) using an encoding scheme such as ASCII or Unicode. For example, \"Hello World\" in ASCII is represented as 01001000 01101100 01101100 01101111 00100000 01110100 01101111 01110010 00100000 01101110 01101001 01100100 01101111 01110100 01100010 01101111 01110011.\n",
      "2. Divide the bit string into fixed-size blocks, usually 512 bits for SHA-1 and 1024 bits for SHA-2. For our example, we have 36 bits, so we need to pad it with zeros until it reaches 512 bits.\n",
      "3. Apply a mathematical function (called the compression function) to each block of data. This function takes in the current state of the hash and combines it with the data block to produce a new state. The process is repeated for all blocks, and the final state is the hash value.\n",
      "4. For SHA-1, the output hash is 160 bits long, while for SHA-2, it can be either 224, 256, 384, or 512 bits. In our example, the hash value would be a fixed-length string of 160 bits.\n",
      "\n",
      "Remember that the same input will always produce the same output, but it is computationally infeasible to find an input that produces a specific output (known as a collision). \n",
      "\n",
      "\n",
      "Why is this better than basic hash? is there something special? \n",
      "\n",
      "\n",
      "\n",
      "The SHA algorithm provides stronger security guarantees compared to basic hashing techniques such as MD5 or SHA-1. The main differences are:\n",
      "\n",
      "1. Collision Resistance: Basic hashes like MD5 can be vulnerable to collisions, meaning two different inputs can produce the same hash value. This weakness can be exploited by attackers to forge signatures or tamper with data. On the other hand, SHA-2 and SHA-3 are designed to have a much higher resistance against collision attacks.\n",
      "2. Security Strength: The security strength of SHA is regularly updated as new threats emerge. For example, NIST announced in 2015 that SHA-1 would be phased out by 2017 due to increasing vulnerabilities. In contrast, basic hashes like MD5 have remained unchanged for decades and are now considered insecure.\n",
      "3. Standardization: SHA is a widely adopted standard developed by NIST, which ensures interoperability across different platforms and applications. This makes it easier to implement and verify the integrity of data using SHA.\n",
      "4. Flexibility: SHA supports various hash sizes (160, 224, 256, 384, or 512 bits), allowing users to choose the appropriate level of security based on their needs. Basic hashes like MD5 have a fixed output size of 128 bits.\n",
      "\n",
      "In summary, SHA provides stronger security guarantees than basic hash functions due to its collision resistance, regular updates, standardization, and flexibility. \n",
      "\n",
      "\n",
      "Can you explain more? \n",
      "\n",
      "\n",
      "\n",
      "Sure! Let's dive deeper into some key aspects of SHA:\n",
      "\n",
      "1. Collision Resistance: SHA uses a mathematical function called the compression function that takes in the current state of the hash and combines it with the data block to produce a new state. This process is repeated for all blocks, and the final state is the hash value. The design of SHA ensures that finding two different inputs that produce the same output (a collision) is computationally infeasible. In contrast, basic hashes like MD5 can be vulnerable to collisions, which can be exploited by attackers to forge signatures or tamper with data.\n",
      "2. Security Strength: SHA's security strength is regularly updated as new threats emerge. For example, NIST announced in 2015 that SHA-1 would be phased out by 2017 due to increasing vulnerabilities. In contrast, basic hashes like MD5 have remained unchanged for decades and are now considered insecure.\n",
      "3. Standardization: SHA is a widely adopted standard developed by NIST, which ensures interoperability across different platforms and applications. This makes it easier to implement and verify the integrity of data using SHA.\n",
      "4. Flexibility: SHA supports various hash sizes (160, 224, 256, 384, or 512 bits), allowing users to choose the appropriate level of security based on their needs. Basic hashes like MD5 have a fixed output size of 128 bits.\n",
      "\n",
      "These features make SHA a more secure and versatile choice for cryptographic hash functions compared to basic hashing techniques such as MD5 or SHA-1. \n",
      "\n",
      "\n",
      "do you know DSS \n",
      "\n",
      "\n",
      "\n",
      "Yes, I do! The Digital Signature Standard (DSS) is a United States government standard for digital signatures that uses the SHA algorithm in conjunction with elliptic curve cryptography (ECC). DSS is designed to provide secure and efficient digital signatures for electronic transactions.\n",
      "\n",
      "The main components of DSS are:\n",
      "\n",
      "1. Public Key: A public key, which is a mathematical function used to verify the authenticity of a signature. It is publicly available and can be used by anyone to check the validity of a signature.\n",
      "2. Private Key: A private key, which is a secret value known only to the signer. It is used to generate digital signatures that can be verified using the public key.\n",
      "3. Elliptic Curve Cryptography (ECC): ECC is a type of public-key cryptography that uses elliptic curves over finite fields as its mathematical basis. It provides similar security levels as traditional RSA-based systems but with shorter key sizes, making it more efficient and faster.\n",
      "4. SHA Algorithm: DSS uses the SHA algorithm to compute a hash value from the message being signed. This hash value is then used in conjunction with the signer's private key to generate a digital signature.\n",
      "\n",
      "DSS provides a secure and efficient way to create and verify digital signatures, ensuring the authenticity and integrity of electronic transactions. \n",
      "\n",
      "\n",
      "Can you summarize all these so I can learn it for my exam tomorrow? \n",
      "\n",
      "\n",
      "\n",
      "Sure! Here's a summary of the key points we discussed:\n",
      "\n",
      "1. SHA (Secure Hash Algorithm) is a set of cryptographic hash functions designed by NIST, offering stronger security guarantees than basic hashing techniques like MD5 or SHA-1.\n",
      "2. SHA provides higher collision resistance, more frequent updates for security strength, standardization across platforms, and flexibility in hash sizes compared to basic hashes.\n",
      "3. DSS (Digital Signature Standard) is a United States government standard that uses the SHA algorithm in conjunction with elliptic curve cryptography (ECC) to provide secure and efficient digital signatures for electronic transactions. \n",
      "\n",
      "\n"
     ]
    }
   ],
   "source": [
    "for i in model.chat_history:\n",
    "    print(i.content, \"\\n\\n\")"
   ]
  },
  {
   "cell_type": "code",
   "execution_count": null,
   "metadata": {},
   "outputs": [],
   "source": []
  }
 ],
 "metadata": {
  "kernelspec": {
   "display_name": "env",
   "language": "python",
   "name": "python3"
  },
  "language_info": {
   "codemirror_mode": {
    "name": "ipython",
    "version": 3
   },
   "file_extension": ".py",
   "mimetype": "text/x-python",
   "name": "python",
   "nbconvert_exporter": "python",
   "pygments_lexer": "ipython3",
   "version": "3.11.1"
  }
 },
 "nbformat": 4,
 "nbformat_minor": 2
}
