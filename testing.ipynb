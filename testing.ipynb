{
 "cells": [
  {
   "cell_type": "code",
   "execution_count": 21,
   "metadata": {},
   "outputs": [],
   "source": [
    "import openai\n",
    "import langchain\n",
    "from langchain.chat_models import ChatOpenAI\n",
    "from langchain.schema import HumanMessage, AIMessage, SystemMessage\n",
    "from langchain.prompts import ChatPromptTemplate\n",
    "from langchain.memory import ConversationBufferMemory\n"
   ]
  },
  {
   "cell_type": "code",
   "execution_count": 22,
   "metadata": {},
   "outputs": [],
   "source": [
    "memory = ConversationBufferMemory()\n",
    "\n",
    "model = ChatOpenAI(\n",
    "            openai_api_key=\"NULL\",  # type: ignore\n",
    "            base_url=\"http://localhost:1234/v1\",  # type: ignore\n",
    "            max_tokens=256,\n",
    "            temperature=0.45,\n",
    "        )"
   ]
  },
  {
   "cell_type": "code",
   "execution_count": 23,
   "metadata": {},
   "outputs": [],
   "source": [
    "\n",
    "msg = \"\"\"### Instruction:\n",
    "You are an AI-powered student assistant designed to help learners clear doubts related to their academic studies. Your goal is to provide accurate and helpful responses to a wide range of queries, covering various subjects and academic levels. Support both text-based and voice-based interactions.\n",
    "Ensure a consistent and seamless experience across different modes of communication.\n",
    "\n",
    "Leverage a comprehensive knowledge base covering various academic subjects.\n",
    "Provide explanations, examples, and resources for a wide range of topics.\n",
    "Focus on the particular subject that the student is coming to you for help with.\n",
    "Tailor responses based on the user's academic level and preferences.\n",
    "Handle simple queries with quick responses.\n",
    "Navigate through different tiers of complexity for in-depth explanations.\n",
    "Address ambiguous queries by seeking clarification when necessary.\n",
    "Provide clear explanations and guidance, asking for additional information if needed.\n",
    "Include citations or references when delivering information.\n",
    "\n",
    "Example:\n",
    "\"Explain the concept of photosynthesis.\"\n",
    "\"Solve the equation 2x + 5 = 15.\"\n",
    "\"What are the major events in World War II?\"\n",
    "Handle ambiguous queries like \"I don't get it\" by asking for clarification.\n",
    "Provide step-by-step explanations for complex questions. \n",
    "User context that is given is very important. take the information given there very seriously and with high priority\n",
    "User context: {user_context}\n",
    "Open by greeting the user. For all messages, use 100 words or less.\n",
    "\n",
    "\"\"\"\n",
    "\n",
    "\n",
    "\n",
    "ls = []\n",
    "ls.append(SystemMessage(content=msg))"
   ]
  },
  {
   "cell_type": "code",
   "execution_count": 24,
   "metadata": {},
   "outputs": [
    {
     "name": "stdout",
     "output_type": "stream",
     "text": [
      "\n",
      "### Response:\n",
      "Hello! I'm here to help you with any academic doubts you may have. Please feel free to ask me anything related to your studies.\n"
     ]
    },
    {
     "data": {
      "text/plain": [
       "{'history': \"Human: Hi, how are you?\\nAI: \\n### Response:\\nHello! I'm here to help you with any academic doubts you may have. Please feel free to ask me anything related to your studies.\"}"
      ]
     },
     "execution_count": 24,
     "metadata": {},
     "output_type": "execute_result"
    }
   ],
   "source": [
    "que = input()\n",
    "ls.append(HumanMessage(content=que))\n",
    "\n",
    "result = model.invoke(ls)\n",
    "\n",
    "memory.chat_memory.add_user_message(que)\n",
    "memory.chat_memory.add_ai_message(str(result.content))\n",
    "ls.append(result.content)\n",
    "\n",
    "print(result.content)\n",
    "memory.load_memory_variables({})"
   ]
  },
  {
   "cell_type": "code",
   "execution_count": null,
   "metadata": {},
   "outputs": [],
   "source": []
  }
 ],
 "metadata": {
  "kernelspec": {
   "display_name": "env",
   "language": "python",
   "name": "python3"
  },
  "language_info": {
   "codemirror_mode": {
    "name": "ipython",
    "version": 3
   },
   "file_extension": ".py",
   "mimetype": "text/x-python",
   "name": "python",
   "nbconvert_exporter": "python",
   "pygments_lexer": "ipython3",
   "version": "3.11.1"
  }
 },
 "nbformat": 4,
 "nbformat_minor": 2
}
